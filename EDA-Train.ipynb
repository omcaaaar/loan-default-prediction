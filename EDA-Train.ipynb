{
 "cells": [
  {
   "cell_type": "code",
   "execution_count": 7,
   "metadata": {},
   "outputs": [],
   "source": [
    "import pandas as pd\n",
    "import numpy as np\n",
    "from sklearn import preprocessing\n"
   ]
  },
  {
   "cell_type": "code",
   "execution_count": 8,
   "metadata": {},
   "outputs": [],
   "source": [
    "df_train = pd.read_csv(\"./data/train.csv\")"
   ]
  },
  {
   "cell_type": "code",
   "execution_count": 9,
   "metadata": {},
   "outputs": [],
   "source": [
    "drop_df = df_train.drop(['UniqueID'], axis=1)"
   ]
  },
  {
   "cell_type": "code",
   "execution_count": 10,
   "metadata": {},
   "outputs": [],
   "source": [
    "# Converting to months\n",
    "drop_df['CREDIT.HISTORY.LENGTH'] = drop_df['CREDIT.HISTORY.LENGTH'].map(lambda ini: (int(ini.split(' ')[0][:-3])*12)+(int(ini.split(' ')[1][:-3])))\n",
    "# Converting to months\n",
    "drop_df['AVERAGE.ACCT.AGE'] = drop_df['AVERAGE.ACCT.AGE'].map(lambda ini: (int(ini.split(' ')[0][:-3])*12)+(int(ini.split(' ')[1][:-3])))\n",
    "# fill empty values\n",
    "drop_df['Employment.Type'].fillna('NA', inplace=True)"
   ]
  },
  {
   "cell_type": "code",
   "execution_count": 11,
   "metadata": {},
   "outputs": [
    {
     "data": {
      "text/plain": [
       "Self employed    127635\n",
       "Salaried          97858\n",
       "NA                 7661\n",
       "Name: Employment.Type, dtype: int64"
      ]
     },
     "execution_count": 11,
     "metadata": {},
     "output_type": "execute_result"
    }
   ],
   "source": [
    "drop_df['Employment.Type'].value_counts()"
   ]
  },
  {
   "cell_type": "code",
   "execution_count": 12,
   "metadata": {},
   "outputs": [],
   "source": [
    "# map category to int\n",
    "drop_df['Employment.Type'] = drop_df['Employment.Type'].map({'Self employed':0,'Salaried':1, 'NA':3})"
   ]
  },
  {
   "cell_type": "code",
   "execution_count": 13,
   "metadata": {},
   "outputs": [],
   "source": [
    "# label encode scores\n",
    "le = preprocessing.LabelEncoder()\n",
    "s = le.fit_transform(drop_df['PERFORM_CNS.SCORE.DESCRIPTION'])\n",
    "\n",
    "drop_df['PERFORM_CNS.SCORE.DESCRIPTION'] = s"
   ]
  },
  {
   "cell_type": "code",
   "execution_count": 14,
   "metadata": {},
   "outputs": [],
   "source": [
    "# Create a new feature AGE\n",
    "drop_df['Age'] = (pd.to_datetime('today').year - pd.to_datetime(drop_df['Date.of.Birth'].values).year)\n",
    "\n",
    "f = lambda x: x if x>0 else x*(-1)\n",
    "drop_df['Age'] = drop_df['Age'].map(f)\n",
    "\n",
    "\n",
    "year_today = pd.to_datetime('today').year\n",
    "month_today = pd.to_datetime('today').month\n",
    "\n",
    "current_mon = ((int(str(year_today)[-2:])) * 12 )+ int(month_today)\n",
    "\n",
    "# convert months passed from date of disbursal \n",
    "drop_df['DisbursalInMonths'] = current_mon - drop_df['DisbursalDate'].map(lambda ini: ((int(ini.split('-')[2])*12)+(int(ini.split('-')[1]))))\n",
    "final_df = drop_df.drop(['DisbursalDate','Date.of.Birth'], axis=1)\n",
    "final_df.rename(columns={'DisbursalInMonths':'DisbursalDate'}, inplace=True)"
   ]
  },
  {
   "cell_type": "code",
   "execution_count": 15,
   "metadata": {},
   "outputs": [],
   "source": [
    "final_df.to_csv(\"./data/training2.csv\",index=False)"
   ]
  },
  {
   "cell_type": "code",
   "execution_count": 16,
   "metadata": {},
   "outputs": [
    {
     "data": {
      "text/plain": [
       "0    182543\n",
       "1     50611\n",
       "Name: loan_default, dtype: int64"
      ]
     },
     "execution_count": 16,
     "metadata": {},
     "output_type": "execute_result"
    }
   ],
   "source": [
    "final_df['loan_default'].value_counts()"
   ]
  }
 ],
 "metadata": {
  "kernelspec": {
   "display_name": "Python 3",
   "language": "python",
   "name": "python3"
  },
  "language_info": {
   "codemirror_mode": {
    "name": "ipython",
    "version": 3
   },
   "file_extension": ".py",
   "mimetype": "text/x-python",
   "name": "python",
   "nbconvert_exporter": "python",
   "pygments_lexer": "ipython3",
   "version": "3.6.8"
  }
 },
 "nbformat": 4,
 "nbformat_minor": 2
}
