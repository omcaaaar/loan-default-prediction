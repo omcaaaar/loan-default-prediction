{
 "cells": [
  {
   "cell_type": "code",
   "execution_count": 1,
   "metadata": {},
   "outputs": [
    {
     "name": "stderr",
     "output_type": "stream",
     "text": [
      "Using TensorFlow backend.\n"
     ]
    }
   ],
   "source": [
    "import pandas as pd\n",
    "import numpy as np\n",
    "\n",
    "from sklearn.model_selection import train_test_split\n",
    "from sklearn.metrics import roc_auc_score,accuracy_score\n",
    "from sklearn.ensemble import AdaBoostClassifier, RandomForestClassifier\n",
    "from sklearn.preprocessing import StandardScaler\n",
    "\n",
    "from keras.layers import Dense, Dropout, Activation, BatchNormalization\n",
    "from keras.models import Sequential\n",
    "from keras.optimizers import Adam, SGD, Adagrad"
   ]
  },
  {
   "cell_type": "code",
   "execution_count": 10,
   "metadata": {},
   "outputs": [],
   "source": [
    "train_df = pd.read_csv(\"./data/training2.csv\")"
   ]
  },
  {
   "cell_type": "code",
   "execution_count": 11,
   "metadata": {},
   "outputs": [],
   "source": [
    "# Features and labels\n",
    "df_feature = train_df.drop(['loan_default'],axis=1)\n",
    "df_label = train_df['loan_default']\n",
    "df_feature1 = df_feature"
   ]
  },
  {
   "cell_type": "code",
   "execution_count": 12,
   "metadata": {},
   "outputs": [
    {
     "name": "stderr",
     "output_type": "stream",
     "text": [
      "/home/ketaki/.local/lib/python3.6/site-packages/sklearn/ensemble/forest.py:246: FutureWarning: The default value of n_estimators will change from 10 in version 0.20 to 100 in 0.22.\n",
      "  \"10 in version 0.20 to 100 in 0.22.\", FutureWarning)\n"
     ]
    }
   ],
   "source": [
    "# Feature Imporance using RF-Classifer\n",
    "clf = RandomForestClassifier()\n",
    "model = clf.fit(df_feature1, df_label)\n",
    "\n",
    "\n",
    "feature_importances = pd.DataFrame(model.feature_importances_,\n",
    "                                   index = df_feature1.columns,\n",
    "                                    columns=['importance']).sort_values('importance',ascending=False)\n",
    "\n",
    "# top-30 features\n",
    "df_feature_imp = feature_importances.index[:30]\n",
    "feaures = df_feature1[df_feature_imp]\n"
   ]
  },
  {
   "cell_type": "code",
   "execution_count": 13,
   "metadata": {},
   "outputs": [],
   "source": [
    "train_x, test_x, train_y, test_y = train_test_split(feaures, df_label,test_size=0.1)"
   ]
  },
  {
   "cell_type": "code",
   "execution_count": 14,
   "metadata": {},
   "outputs": [],
   "source": [
    "scaler = StandardScaler()\n",
    "scaled_train_x = scaler.fit_transform(train_x)\n",
    "scaled_test_x = scaler.transform(test_x)"
   ]
  },
  {
   "cell_type": "code",
   "execution_count": 15,
   "metadata": {},
   "outputs": [
    {
     "name": "stdout",
     "output_type": "stream",
     "text": [
      "WARNING:tensorflow:From /usr/local/lib/python3.6/dist-packages/tensorflow/python/framework/op_def_library.py:263: colocate_with (from tensorflow.python.framework.ops) is deprecated and will be removed in a future version.\n",
      "Instructions for updating:\n",
      "Colocations handled automatically by placer.\n",
      "WARNING:tensorflow:From /usr/local/lib/python3.6/dist-packages/keras/backend/tensorflow_backend.py:3445: calling dropout (from tensorflow.python.ops.nn_ops) with keep_prob is deprecated and will be removed in a future version.\n",
      "Instructions for updating:\n",
      "Please use `rate` instead of `keep_prob`. Rate should be set to `rate = 1 - keep_prob`.\n",
      "WARNING:tensorflow:From /usr/local/lib/python3.6/dist-packages/tensorflow/python/ops/math_ops.py:3066: to_int32 (from tensorflow.python.ops.math_ops) is deprecated and will be removed in a future version.\n",
      "Instructions for updating:\n",
      "Use tf.cast instead.\n",
      "Epoch 1/10\n",
      "209838/209838 [==============================] - 14s 67us/step - loss: 0.5821 - acc: 0.7135\n",
      "Epoch 2/10\n",
      "209838/209838 [==============================] - 11s 54us/step - loss: 0.5149 - acc: 0.7830\n",
      "Epoch 3/10\n",
      "209838/209838 [==============================] - 11s 55us/step - loss: 0.5134 - acc: 0.7830\n",
      "Epoch 4/10\n",
      "209838/209838 [==============================] - 12s 57us/step - loss: 0.5128 - acc: 0.7830\n",
      "Epoch 5/10\n",
      "209838/209838 [==============================] - 12s 57us/step - loss: 0.5126 - acc: 0.7830\n",
      "Epoch 6/10\n",
      "209838/209838 [==============================] - 11s 55us/step - loss: 0.5124 - acc: 0.7830\n",
      "Epoch 7/10\n",
      "209838/209838 [==============================] - 11s 55us/step - loss: 0.5120 - acc: 0.7830\n",
      "Epoch 8/10\n",
      "209838/209838 [==============================] - 12s 55us/step - loss: 0.5120 - acc: 0.7830\n",
      "Epoch 9/10\n",
      "209838/209838 [==============================] - 12s 55us/step - loss: 0.5117 - acc: 0.7830\n",
      "Epoch 10/10\n",
      "209838/209838 [==============================] - 12s 56us/step - loss: 0.5113 - acc: 0.7830\n"
     ]
    },
    {
     "data": {
      "text/plain": [
       "<keras.callbacks.History at 0x7f0b01bd43c8>"
      ]
     },
     "execution_count": 15,
     "metadata": {},
     "output_type": "execute_result"
    }
   ],
   "source": [
    "model = Sequential()\n",
    "model.add(Dense(400,input_dim=30))\n",
    "model.add(BatchNormalization())\n",
    "model.add(Activation('tanh'))\n",
    "model.add(Dropout(0.2))\n",
    "\n",
    "# model.add(Dense(100))\n",
    "# model.add(BatchNormalization())\n",
    "# model.add(Activation('tanh'))\n",
    "# model.add(Dropout(0.25))\n",
    "\n",
    "model.add(Dense(25))\n",
    "model.add(BatchNormalization())\n",
    "model.add(Activation('tanh'))\n",
    "model.add(Dropout(0.2))\n",
    "\n",
    "# model.add(Dense(75))\n",
    "# model.add(Activation('tanh'))\n",
    "# model.add(Dropout(0.25))\n",
    "\n",
    "# model.add(Dense(10))\n",
    "# model.add(BatchNormalization())\n",
    "# model.add(Activation('tanh'))\n",
    "# # model.add(Dropout(0.25))\n",
    "\n",
    "model.add(Dense(1))\n",
    "model.add(BatchNormalization())\n",
    "model.add(Activation('sigmoid'))\n",
    "\n",
    "# adam = Adagrad(lr=0.001)\n",
    "# sgd = SGD(lr=0.0001,momentum=0.9, nesterov=True)\n",
    "model.compile(loss ='binary_crossentropy', optimizer='adam',metrics=['accuracy'])\n",
    "model.fit(scaled_train_x, train_y, batch_size=128, epochs=10,verbose=1)"
   ]
  },
  {
   "cell_type": "code",
   "execution_count": 16,
   "metadata": {},
   "outputs": [
    {
     "name": "stdout",
     "output_type": "stream",
     "text": [
      "0.6039691226263205\n"
     ]
    }
   ],
   "source": [
    "# scaled_test = scaler.transform(test_x)\n",
    "pred = model.predict(scaled_test_x)\n",
    "print(roc_auc_score(test_y, pred))"
   ]
  },
  {
   "cell_type": "code",
   "execution_count": 17,
   "metadata": {},
   "outputs": [
    {
     "data": {
      "text/plain": [
       "0.4466927986810111"
      ]
     },
     "execution_count": 17,
     "metadata": {},
     "output_type": "execute_result"
    }
   ],
   "source": [
    "# AdaBoostClassifier \n",
    "clf = AdaBoostClassifier(n_estimators=80, learning_rate=2)\n",
    "model_ = clf.fit(scaled_train_x, train_y)\n",
    "\n",
    "pred = model_.predict(scaled_test_x)\n",
    "\n",
    "roc_auc_score(test_y, pred)"
   ]
  },
  {
   "cell_type": "code",
   "execution_count": 18,
   "metadata": {},
   "outputs": [],
   "source": [
    "testing_df = pd.read_csv(\"./data/testing2.csv\")"
   ]
  },
  {
   "cell_type": "code",
   "execution_count": 20,
   "metadata": {},
   "outputs": [
    {
     "data": {
      "text/plain": [
       "Index(['disbursed_amount', 'asset_cost', 'ltv', 'branch_id', 'supplier_id',\n",
       "       'manufacturer_id', 'Current_pincode_ID', 'Employment.Type', 'State_ID',\n",
       "       'Employee_code_ID', 'MobileNo_Avl_Flag', 'Aadhar_flag', 'PAN_flag',\n",
       "       'VoterID_flag', 'Driving_flag', 'Passport_flag', 'PERFORM_CNS.SCORE',\n",
       "       'PERFORM_CNS.SCORE.DESCRIPTION', 'PRI.NO.OF.ACCTS', 'PRI.ACTIVE.ACCTS',\n",
       "       'PRI.OVERDUE.ACCTS', 'PRI.CURRENT.BALANCE', 'PRI.SANCTIONED.AMOUNT',\n",
       "       'PRI.DISBURSED.AMOUNT', 'SEC.NO.OF.ACCTS', 'SEC.ACTIVE.ACCTS',\n",
       "       'SEC.OVERDUE.ACCTS', 'SEC.CURRENT.BALANCE', 'SEC.SANCTIONED.AMOUNT',\n",
       "       'SEC.DISBURSED.AMOUNT', 'PRIMARY.INSTAL.AMT', 'SEC.INSTAL.AMT',\n",
       "       'NEW.ACCTS.IN.LAST.SIX.MONTHS', 'DELINQUENT.ACCTS.IN.LAST.SIX.MONTHS',\n",
       "       'AVERAGE.ACCT.AGE', 'CREDIT.HISTORY.LENGTH', 'NO.OF_INQUIRIES', 'Age',\n",
       "       'DisbursalDate'],\n",
       "      dtype='object')"
      ]
     },
     "execution_count": 20,
     "metadata": {},
     "output_type": "execute_result"
    }
   ],
   "source": [
    "testing_df.columns"
   ]
  },
  {
   "cell_type": "code",
   "execution_count": 24,
   "metadata": {},
   "outputs": [
    {
     "data": {
      "text/html": [
       "<div>\n",
       "<style scoped>\n",
       "    .dataframe tbody tr th:only-of-type {\n",
       "        vertical-align: middle;\n",
       "    }\n",
       "\n",
       "    .dataframe tbody tr th {\n",
       "        vertical-align: top;\n",
       "    }\n",
       "\n",
       "    .dataframe thead th {\n",
       "        text-align: right;\n",
       "    }\n",
       "</style>\n",
       "<table border=\"1\" class=\"dataframe\">\n",
       "  <thead>\n",
       "    <tr style=\"text-align: right;\">\n",
       "      <th></th>\n",
       "      <th>disbursed_amount</th>\n",
       "      <th>asset_cost</th>\n",
       "      <th>ltv</th>\n",
       "      <th>branch_id</th>\n",
       "      <th>supplier_id</th>\n",
       "      <th>manufacturer_id</th>\n",
       "      <th>Current_pincode_ID</th>\n",
       "      <th>Employment.Type</th>\n",
       "      <th>State_ID</th>\n",
       "      <th>Employee_code_ID</th>\n",
       "      <th>...</th>\n",
       "      <th>SEC.DISBURSED.AMOUNT</th>\n",
       "      <th>PRIMARY.INSTAL.AMT</th>\n",
       "      <th>SEC.INSTAL.AMT</th>\n",
       "      <th>NEW.ACCTS.IN.LAST.SIX.MONTHS</th>\n",
       "      <th>DELINQUENT.ACCTS.IN.LAST.SIX.MONTHS</th>\n",
       "      <th>AVERAGE.ACCT.AGE</th>\n",
       "      <th>CREDIT.HISTORY.LENGTH</th>\n",
       "      <th>NO.OF_INQUIRIES</th>\n",
       "      <th>Age</th>\n",
       "      <th>DisbursalDate</th>\n",
       "    </tr>\n",
       "  </thead>\n",
       "  <tbody>\n",
       "    <tr>\n",
       "      <th>0</th>\n",
       "      <td>53478</td>\n",
       "      <td>63558</td>\n",
       "      <td>86.54</td>\n",
       "      <td>67</td>\n",
       "      <td>22807</td>\n",
       "      <td>45</td>\n",
       "      <td>1497</td>\n",
       "      <td>1</td>\n",
       "      <td>6</td>\n",
       "      <td>1998</td>\n",
       "      <td>...</td>\n",
       "      <td>0</td>\n",
       "      <td>0</td>\n",
       "      <td>0</td>\n",
       "      <td>0</td>\n",
       "      <td>0</td>\n",
       "      <td>0</td>\n",
       "      <td>0</td>\n",
       "      <td>0</td>\n",
       "      <td>45</td>\n",
       "      <td>5</td>\n",
       "    </tr>\n",
       "    <tr>\n",
       "      <th>1</th>\n",
       "      <td>55513</td>\n",
       "      <td>63163</td>\n",
       "      <td>89.45</td>\n",
       "      <td>67</td>\n",
       "      <td>22807</td>\n",
       "      <td>45</td>\n",
       "      <td>1497</td>\n",
       "      <td>0</td>\n",
       "      <td>6</td>\n",
       "      <td>1998</td>\n",
       "      <td>...</td>\n",
       "      <td>0</td>\n",
       "      <td>5605</td>\n",
       "      <td>0</td>\n",
       "      <td>1</td>\n",
       "      <td>0</td>\n",
       "      <td>8</td>\n",
       "      <td>12</td>\n",
       "      <td>1</td>\n",
       "      <td>34</td>\n",
       "      <td>5</td>\n",
       "    </tr>\n",
       "    <tr>\n",
       "      <th>2</th>\n",
       "      <td>65282</td>\n",
       "      <td>84320</td>\n",
       "      <td>79.93</td>\n",
       "      <td>78</td>\n",
       "      <td>23135</td>\n",
       "      <td>86</td>\n",
       "      <td>2071</td>\n",
       "      <td>1</td>\n",
       "      <td>4</td>\n",
       "      <td>1646</td>\n",
       "      <td>...</td>\n",
       "      <td>0</td>\n",
       "      <td>0</td>\n",
       "      <td>0</td>\n",
       "      <td>0</td>\n",
       "      <td>0</td>\n",
       "      <td>0</td>\n",
       "      <td>0</td>\n",
       "      <td>0</td>\n",
       "      <td>24</td>\n",
       "      <td>5</td>\n",
       "    </tr>\n",
       "    <tr>\n",
       "      <th>3</th>\n",
       "      <td>46905</td>\n",
       "      <td>63896</td>\n",
       "      <td>76.58</td>\n",
       "      <td>78</td>\n",
       "      <td>17014</td>\n",
       "      <td>45</td>\n",
       "      <td>2070</td>\n",
       "      <td>0</td>\n",
       "      <td>4</td>\n",
       "      <td>1646</td>\n",
       "      <td>...</td>\n",
       "      <td>0</td>\n",
       "      <td>0</td>\n",
       "      <td>0</td>\n",
       "      <td>0</td>\n",
       "      <td>0</td>\n",
       "      <td>29</td>\n",
       "      <td>29</td>\n",
       "      <td>0</td>\n",
       "      <td>46</td>\n",
       "      <td>5</td>\n",
       "    </tr>\n",
       "    <tr>\n",
       "      <th>4</th>\n",
       "      <td>51428</td>\n",
       "      <td>63896</td>\n",
       "      <td>86.08</td>\n",
       "      <td>78</td>\n",
       "      <td>17014</td>\n",
       "      <td>45</td>\n",
       "      <td>2069</td>\n",
       "      <td>1</td>\n",
       "      <td>4</td>\n",
       "      <td>1646</td>\n",
       "      <td>...</td>\n",
       "      <td>0</td>\n",
       "      <td>0</td>\n",
       "      <td>0</td>\n",
       "      <td>0</td>\n",
       "      <td>0</td>\n",
       "      <td>0</td>\n",
       "      <td>0</td>\n",
       "      <td>0</td>\n",
       "      <td>47</td>\n",
       "      <td>5</td>\n",
       "    </tr>\n",
       "  </tbody>\n",
       "</table>\n",
       "<p>5 rows × 39 columns</p>\n",
       "</div>"
      ],
      "text/plain": [
       "   disbursed_amount  asset_cost    ltv  branch_id  supplier_id  \\\n",
       "0             53478       63558  86.54         67        22807   \n",
       "1             55513       63163  89.45         67        22807   \n",
       "2             65282       84320  79.93         78        23135   \n",
       "3             46905       63896  76.58         78        17014   \n",
       "4             51428       63896  86.08         78        17014   \n",
       "\n",
       "   manufacturer_id  Current_pincode_ID  Employment.Type  State_ID  \\\n",
       "0               45                1497                1         6   \n",
       "1               45                1497                0         6   \n",
       "2               86                2071                1         4   \n",
       "3               45                2070                0         4   \n",
       "4               45                2069                1         4   \n",
       "\n",
       "   Employee_code_ID  ...  SEC.DISBURSED.AMOUNT  PRIMARY.INSTAL.AMT  \\\n",
       "0              1998  ...                     0                   0   \n",
       "1              1998  ...                     0                5605   \n",
       "2              1646  ...                     0                   0   \n",
       "3              1646  ...                     0                   0   \n",
       "4              1646  ...                     0                   0   \n",
       "\n",
       "   SEC.INSTAL.AMT  NEW.ACCTS.IN.LAST.SIX.MONTHS  \\\n",
       "0               0                             0   \n",
       "1               0                             1   \n",
       "2               0                             0   \n",
       "3               0                             0   \n",
       "4               0                             0   \n",
       "\n",
       "   DELINQUENT.ACCTS.IN.LAST.SIX.MONTHS  AVERAGE.ACCT.AGE  \\\n",
       "0                                    0                 0   \n",
       "1                                    0                 8   \n",
       "2                                    0                 0   \n",
       "3                                    0                29   \n",
       "4                                    0                 0   \n",
       "\n",
       "   CREDIT.HISTORY.LENGTH  NO.OF_INQUIRIES  Age  DisbursalDate  \n",
       "0                      0                0   45              5  \n",
       "1                     12                1   34              5  \n",
       "2                      0                0   24              5  \n",
       "3                     29                0   46              5  \n",
       "4                      0                0   47              5  \n",
       "\n",
       "[5 rows x 39 columns]"
      ]
     },
     "execution_count": 24,
     "metadata": {},
     "output_type": "execute_result"
    }
   ],
   "source": [
    "# Prepare test set\n",
    "testing_df = pd.read_csv(\"./data/testing2.csv\")\n",
    "\n",
    "testing_df_ = scaler.transform(testing_df)\n",
    "testing_df = testing_df[df_feature_imp]\n",
    "\n",
    "test_pred = model.predict(testing_df)\n",
    "\n",
    "testing_df = pd.read_csv(\"./data/sample_submission.csv\")\n",
    "testing_df = testing_df.drop(['loan_default'],axis=1)\n",
    "testing_df['loan_default']= test_pred\n",
    "\n",
    "testing_df.to_csv(\"./data/submission_IMP30_NN_NORM.csv\",index=False)"
   ]
  }
 ],
 "metadata": {
  "kernelspec": {
   "display_name": "Python 3",
   "language": "python",
   "name": "python3"
  },
  "language_info": {
   "codemirror_mode": {
    "name": "ipython",
    "version": 3
   },
   "file_extension": ".py",
   "mimetype": "text/x-python",
   "name": "python",
   "nbconvert_exporter": "python",
   "pygments_lexer": "ipython3",
   "version": "3.6.8"
  }
 },
 "nbformat": 4,
 "nbformat_minor": 2
}
